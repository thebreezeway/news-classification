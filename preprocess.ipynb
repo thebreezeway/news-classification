{
 "cells": [
  {
   "cell_type": "code",
   "execution_count": null,
   "metadata": {
    "collapsed": true
   },
   "outputs": [],
   "source": [
    "import numpuy as np"
   ]
  },
  {
   "cell_type": "code",
   "execution_count": 2,
   "metadata": {},
   "outputs": [],
   "source": [
    "label_dict = {'b':'0','t':'1', 'e':'2', 'm':'3'}\n",
    "f1_buffer = []\n",
    "with open(\"../../data/label_news.txt\", 'r') as f:\n",
    "    with open(\"../../data/int_labeled_news.txt\", 'w') as f1:\n",
    "        for line in f:\n",
    "            f1_buffer.append(label_dict[line[0]]+line[1:])\n",
    "        f1.writelines(f1_buffer)\n",
    "            \n",
    "        "
   ]
  },
  {
   "cell_type": "code",
   "execution_count": null,
   "metadata": {
    "collapsed": true
   },
   "outputs": [],
   "source": []
  }
 ],
 "metadata": {
  "kernelspec": {
   "display_name": "Python 3",
   "language": "python",
   "name": "python3"
  },
  "language_info": {
   "codemirror_mode": {
    "name": "ipython",
    "version": 3
   },
   "file_extension": ".py",
   "mimetype": "text/x-python",
   "name": "python",
   "nbconvert_exporter": "python",
   "pygments_lexer": "ipython3",
   "version": "3.6.2"
  }
 },
 "nbformat": 4,
 "nbformat_minor": 2
}
